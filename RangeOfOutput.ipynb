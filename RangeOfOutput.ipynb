{
 "cells": [
  {
   "cell_type": "code",
   "execution_count": 77,
   "metadata": {},
   "outputs": [],
   "source": [
    "import array\n",
    "def returnDomain(num , p , q):\n",
    "    \n",
    "    index0 = []\n",
    "    index1= []\n",
    "    inarr = array.array('i',num)\n",
    "    for i in inarr:\n",
    "            indexCurrent =  inarr.index(i)\n",
    "            #print( inarr.index(i))\n",
    "            start, end   = rangefun(i,p[indexCurrent],q[indexCurrent])\n",
    "            index0.append(start)\n",
    "            index1.append(end)\n",
    "    index0.sort()\n",
    "    index1.sort()\n",
    "    domain = (index0[0],index1[2])\n",
    "    print(\"range is \",domain)\n",
    "    return domain\n"
   ]
  },
  {
   "cell_type": "code",
   "execution_count": 58,
   "metadata": {},
   "outputs": [],
   "source": [
    "def rangefun(num,sub , add ):\n",
    "    start = num - sub \n",
    "    end = num + add\n",
    "    return start,end"
   ]
  },
  {
   "cell_type": "code",
   "execution_count": 92,
   "metadata": {},
   "outputs": [
    {
     "name": "stdout",
     "output_type": "stream",
     "text": [
      "range is  (-1, 10)\n",
      "[4, 5, 6, 7]\n"
     ]
    }
   ],
   "source": [
    "inputNum = [5,7,3]\n",
    "p = [1,5,4]\n",
    "q= [2,3,5]\n",
    "domain = returnDomain(inputNum, p , q)\n",
    "start = domain[0]\n",
    "end = domain[1]\n",
    "\n",
    "if(start<0):\n",
    "    addToLen = abs(start)\n",
    "    length = abs(end)+addToLen\n",
    "else:\n",
    "    length = abs(end) - abs(start)\n",
    "\n",
    "#got the length of array to be made \n",
    "# for 1st num that is 5 plot it in array \n",
    "numLine = [0]*length\n",
    "\n",
    "for i in inputNum:\n",
    "    start , end = rangefun(i,p[inputNum.index(i)],q[inputNum.index(i)])\n",
    "    #got individual range of each \n",
    "    if start<0:\n",
    "        newlen = abs(start)+abs(end)\n",
    "        start = 0 \n",
    "        end = newlen\n",
    "    # now plot\n",
    "    \n",
    "    for i in range(start,(end+1)):\n",
    "        numLine[i] +=1\n",
    "\n",
    "print([i for i in range(len(numLine)) if numLine[i]==3])"
   ]
  },
  {
   "cell_type": "code",
   "execution_count": 93,
   "metadata": {},
   "outputs": [
    {
     "name": "stdout",
     "output_type": "stream",
     "text": [
      "[(-1, 8), (2, 10), (4, 7)]\n"
     ]
    }
   ],
   "source": [
    "a = [5,7,3]\n",
    "p = [1,5,4]\n",
    "q= [2,3,5]\n",
    "c=[]\n",
    "for i in range(len(a)):\n",
    "    x = a[i]-p[i]\n",
    "    y = a[i]+q[i]\n",
    "    c.append((x,y))\n",
    "\n",
    "c.sort(key=lambda element:element[0])\n",
    "print(c)"
   ]
  },
  {
   "cell_type": "code",
   "execution_count": 94,
   "metadata": {},
   "outputs": [
    {
     "name": "stdout",
     "output_type": "stream",
     "text": [
      "4\n"
     ]
    }
   ],
   "source": [
    "def minMax(c):\n",
    "    min = 999\n",
    "    max = -999\n",
    "    for i in range(len(c)):\n",
    "        x = c[i][0]\n",
    "        y = c[i][1]\n",
    "        \n",
    "        if(x<min):\n",
    "            min = x\n",
    "        \n",
    "        if(y>max):\n",
    "            max = y\n",
    "            \n",
    "    return min,max\n",
    "\n",
    "def getStartAndEnd(minimum,maximum):\n",
    "    start = minimum\n",
    "    end = maximum\n",
    "    if(minimum<0):\n",
    "        start = start+(minimum*-1)\n",
    "        end = end+(minimum*-1)\n",
    "    return start, end\n",
    "\n",
    "def getAnswer(c, minimum):\n",
    "    \n",
    "    finalList = [0]*(end+1)\n",
    "\n",
    "    for i in range(len(c)):\n",
    "        x = c[i][0]+(minimum*-1)\n",
    "        y = c[i][1]+(minimum*-1) \n",
    "        #print(x,y)\n",
    "        for j in range(x,y+1):\n",
    "            finalList[j]+=1\n",
    "    ans=0\n",
    "    for i in range(len(finalList)):\n",
    "        if(finalList[i]==len(c)):\n",
    "            ans+=1\n",
    "    return ans\n",
    "\n",
    "minimum, maximum = minMax(c)\n",
    "start, end = getStartAndEnd(minimum,maximum)\n",
    "print(getAnswer(c,minimum))"
   ]
  },
  {
   "cell_type": "code",
   "execution_count": null,
   "metadata": {},
   "outputs": [],
   "source": []
  }
 ],
 "metadata": {
  "kernelspec": {
   "display_name": "Python 3",
   "language": "python",
   "name": "python3"
  },
  "language_info": {
   "codemirror_mode": {
    "name": "ipython",
    "version": 3
   },
   "file_extension": ".py",
   "mimetype": "text/x-python",
   "name": "python",
   "nbconvert_exporter": "python",
   "pygments_lexer": "ipython3",
   "version": "3.6.5"
  }
 },
 "nbformat": 4,
 "nbformat_minor": 2
}
