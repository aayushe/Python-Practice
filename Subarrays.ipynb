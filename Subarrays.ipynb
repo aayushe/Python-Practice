{
 "cells": [
  {
   "cell_type": "code",
   "execution_count": 71,
   "metadata": {},
   "outputs": [
    {
     "name": "stdout",
     "output_type": "stream",
     "text": [
      "[6, 8]\n"
     ]
    }
   ],
   "source": [
    "# largest sum contigious subarray\n",
    "array = [-1,-4,-2,6,8,-9,4]\n",
    "sumList = None\n",
    "a = 0\n",
    "for j in range(len(array)):\n",
    "    storePrev = []\n",
    "    ptotal = -9999999\n",
    "    currentList = []\n",
    "    cTotal = -9999999\n",
    "    \n",
    "    for i in range(j , len(array)):\n",
    "        currentList+=[array[i]]\n",
    "        cTotal = sumoflist(currentList)\n",
    "        if(ptotal<cTotal):\n",
    "            storePrev = currentList[:]\n",
    "            ptotal = cTotal\n",
    "\n",
    "    if(sumList==None):\n",
    "        sumList = storePrev\n",
    "    elif(sumoflist(sumList)<ptotal):\n",
    "        sumList = storePrev[:]\n",
    "       \n",
    "print(sumList)\n"
   ]
  },
  {
   "cell_type": "code",
   "execution_count": 53,
   "metadata": {},
   "outputs": [],
   "source": [
    "def sumoflist(l):    \n",
    "    total = 0    \n",
    "    for i in l:\n",
    "        total +=i\n",
    "    return total"
   ]
  },
  {
   "cell_type": "code",
   "execution_count": null,
   "metadata": {},
   "outputs": [],
   "source": []
  }
 ],
 "metadata": {
  "kernelspec": {
   "display_name": "Python 3",
   "language": "python",
   "name": "python3"
  },
  "language_info": {
   "codemirror_mode": {
    "name": "ipython",
    "version": 3
   },
   "file_extension": ".py",
   "mimetype": "text/x-python",
   "name": "python",
   "nbconvert_exporter": "python",
   "pygments_lexer": "ipython3",
   "version": "3.6.5"
  }
 },
 "nbformat": 4,
 "nbformat_minor": 2
}
